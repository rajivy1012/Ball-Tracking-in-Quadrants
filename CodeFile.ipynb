{
 "cells": [
  {
   "cell_type": "markdown",
   "id": "8a7b9add",
   "metadata": {},
   "source": [
    "# Dependencies "
   ]
  },
  {
   "cell_type": "raw",
   "id": "cf2b02aa",
   "metadata": {},
   "source": [
    "opencv-python==4.5.3.56\n",
    "numpy==1.21.1\n"
   ]
  },
  {
   "cell_type": "markdown",
   "id": "813ae43a",
   "metadata": {},
   "source": [
    "# Importing Necessary Libraries"
   ]
  },
  {
   "cell_type": "code",
   "execution_count": 26,
   "id": "5f65bafc",
   "metadata": {},
   "outputs": [],
   "source": [
    "import cv2\n",
    "import numpy as np"
   ]
  },
  {
   "cell_type": "markdown",
   "id": "525615e4",
   "metadata": {},
   "source": [
    "# Function Definitions"
   ]
  },
  {
   "cell_type": "markdown",
   "id": "7b1be161",
   "metadata": {},
   "source": [
    "1.`define_color_ranges()` ---> This function defines the HSV color ranges for yellow, green, white, and orange balls. \n",
    "                             These ranges are used to create masks for detecting balls of specific colors."
   ]
  },
  {
   "cell_type": "code",
   "execution_count": 27,
   "id": "161bcd2a",
   "metadata": {},
   "outputs": [],
   "source": [
    "\n",
    "def define_color_ranges():\n",
    "    return {\n",
    "        'yellow': (np.array([20, 100, 100]), np.array([30, 255, 255])),\n",
    "        'green': (np.array([35, 50, 50]), np.array([85, 255, 255])),\n",
    "        'white': (np.array([0, 0, 168]), np.array([172, 111, 255])),\n",
    "        'orange': (np.array([5, 100, 100]), np.array([15, 255, 255]))\n",
    "    }"
   ]
  },
  {
   "cell_type": "markdown",
   "id": "0d907509",
   "metadata": {},
   "source": [
    "2.`define_quadrants(frame, shift=300)` ---> This function divides the frame into four quadrants. \n",
    "                                          The quadrants are shifted to the right by 300 pixels to adjust for any misalignment in the video. \n",
    "                                          The function returns a dictionary with quadrant numbers as keys and their respective coordinate ranges as values."
   ]
  },
  {
   "cell_type": "code",
   "execution_count": 28,
   "id": "d20f4abd",
   "metadata": {},
   "outputs": [],
   "source": [
    "\n",
    "def define_quadrants(frame, shift=300):\n",
    "    height, width = frame.shape[:2]\n",
    "    horizontal_line = height // 2\n",
    "    vertical_line = width // 2 + shift \n",
    "    \n",
    "    return {\n",
    "        3: ((0, 0), (vertical_line, horizontal_line)),\n",
    "        4: ((vertical_line, 0), (width, horizontal_line)),\n",
    "        2: ((0, horizontal_line), (vertical_line, height)),\n",
    "        1: ((vertical_line, horizontal_line), (width, height))\n",
    "    }"
   ]
  },
  {
   "cell_type": "markdown",
   "id": "72162a14",
   "metadata": {},
   "source": [
    "3.`detect_balls(frame, color_ranges)` ---> This function detects balls of different colors in the frame.\n",
    "                                         It converts the frame to HSV color space and creates masks for each color.\n",
    "                                         Morphological operations are applied to remove noise."
   ]
  },
  {
   "cell_type": "code",
   "execution_count": 29,
   "id": "93a4848f",
   "metadata": {},
   "outputs": [],
   "source": [
    "\n",
    "def detect_balls(frame, color_ranges):\n",
    "    hsv = cv2.cvtColor(frame, cv2.COLOR_BGR2HSV)\n",
    "    balls = {}\n",
    "    for color, (lower, upper) in color_ranges.items():\n",
    "        mask = cv2.inRange(hsv, lower, upper)\n",
    "        # Morphological operations to remove noise and fill gaps\n",
    "        mask = cv2.morphologyEx(mask, cv2.MORPH_CLOSE, np.ones((7, 7), np.uint8))\n",
    "        mask = cv2.morphologyEx(mask, cv2.MORPH_OPEN, np.ones((7, 7), np.uint8))\n",
    "        contours, _ = cv2.findContours(mask, cv2.RETR_EXTERNAL, cv2.CHAIN_APPROX_SIMPLE)\n",
    "        for contour in contours:\n",
    "            if cv2.contourArea(contour) > 100:\n",
    "                x, y, w, h = cv2.boundingRect(contour)\n",
    "                center = (x + w // 2, y + h // 2)\n",
    "                balls[color] = center\n",
    "    return balls"
   ]
  },
  {
   "cell_type": "markdown",
   "id": "8249fb96",
   "metadata": {},
   "source": [
    "4.`get_quadrant(point, quadrants)`---> This function determines which quadrant a given point (ball center) belongs to by comparing the point's coordinates with the quadrant boundaries."
   ]
  },
  {
   "cell_type": "code",
   "execution_count": 30,
   "id": "d33cfa19",
   "metadata": {},
   "outputs": [],
   "source": [
    "\n",
    "def get_quadrant(point, quadrants):\n",
    "    x, y = point\n",
    "    for quadrant, ((x1, y1), (x2, y2)) in quadrants.items():\n",
    "        if x1 <= x < x2 and y1 <= y < y2:\n",
    "            return quadrant\n",
    "    return None"
   ]
  },
  {
   "cell_type": "markdown",
   "id": "f8beaa0e",
   "metadata": {},
   "source": [
    "5.`format_time(seconds)`---> This function formats a given time in seconds into a string in the format HH:MM:SS.sss."
   ]
  },
  {
   "cell_type": "code",
   "execution_count": 31,
   "id": "d5032106",
   "metadata": {},
   "outputs": [],
   "source": [
    "def format_time(seconds):\n",
    "    hours, remainder = divmod(seconds, 3600)\n",
    "    minutes, seconds = divmod(remainder, 60)\n",
    "    return f\"{int(hours):02d}:{int(minutes):02d}:{seconds:06.3f}\"\n"
   ]
  },
  {
   "cell_type": "markdown",
   "id": "48836614",
   "metadata": {},
   "source": [
    "6.`process_video(input_path, output_video_path, output_text_path)` ---> "
   ]
  },
  {
   "cell_type": "code",
   "execution_count": 32,
   "id": "0829b927",
   "metadata": {},
   "outputs": [],
   "source": [
    "def process_video(input_path, output_video_path, output_text_path):\n",
    "    cap = cv2.VideoCapture(input_path)\n",
    "    if not cap.isOpened():\n",
    "        print(f\"Error: Unable to open video file {input_path}\")\n",
    "        return\n",
    "\n",
    "    width = int(cap.get(cv2.CAP_PROP_FRAME_WIDTH))\n",
    "    height = int(cap.get(cv2.CAP_PROP_FRAME_HEIGHT))\n",
    "    fps = int(cap.get(cv2.CAP_PROP_FPS))\n",
    "    \n",
    "    fourcc = cv2.VideoWriter_fourcc(*'mp4v')\n",
    "    out = cv2.VideoWriter(output_video_path, fourcc, fps, (width, height))\n",
    "\n",
    "    color_ranges = define_color_ranges()\n",
    "    quadrants = None\n",
    "    events = []\n",
    "    ball_positions = {}\n",
    "    frame_number = 0\n",
    "\n",
    "    while True:\n",
    "        ret, frame = cap.read()\n",
    "        if not ret:\n",
    "            break\n",
    "\n",
    "        frame_number += 1\n",
    "        timestamp = frame_number / fps\n",
    "\n",
    "        if quadrants is None:\n",
    "            quadrants = define_quadrants(frame)\n",
    "\n",
    "        balls = detect_balls(frame, color_ranges)\n",
    "\n",
    "        for color, center in balls.items():\n",
    "            cv2.circle(frame, center, 5, (0, 255, 0), -1)\n",
    "            current_quadrant = get_quadrant(center, quadrants)\n",
    "\n",
    "            if color not in ball_positions:\n",
    "                ball_positions[color] = current_quadrant\n",
    "                events.append((timestamp, current_quadrant, color, 'Entry'))\n",
    "            elif ball_positions[color] != current_quadrant:\n",
    "                events.append((timestamp, ball_positions[color], color, 'Exit'))\n",
    "                events.append((timestamp, current_quadrant, color, 'Entry'))\n",
    "                ball_positions[color] = current_quadrant\n",
    "\n",
    "        # Draw quadrant grid\n",
    "        for q, ((x1, y1), (x2, y2)) in quadrants.items():\n",
    "            cv2.rectangle(frame, (x1, y1), (x2, y2), (255, 0, 0), 2)\n",
    "            cv2.putText(frame, f\"Q{q}\", (x1 + 10, y1 + 30), cv2.FONT_HERSHEY_SIMPLEX, 0.7, (255, 0, 0), 2)\n",
    "\n",
    "        # Add overlay text for events and timestamp\n",
    "        recent_events = [e for e in events if abs(e[0] - timestamp) < 1.0]\n",
    "        for i, event in enumerate(recent_events[-4:]):\n",
    "            event_text = f\"{event[2]} ball {event[3]} Q{event[1]} at {format_time(event[0])}\"\n",
    "            cv2.putText(frame, event_text, (10, 60 + i*30), cv2.FONT_HERSHEY_SIMPLEX, 0.7, (255, 255, 255), 2)\n",
    "\n",
    "        # Display the timestamp at the top of the frame\n",
    "        cv2.putText(frame, format_time(timestamp), (10, 30), cv2.FONT_HERSHEY_SIMPLEX, 0.7, (255, 255, 255), 2)\n",
    "\n",
    "        out.write(frame)\n",
    "\n",
    "    cap.release()\n",
    "    out.release()\n",
    "\n",
    "    with open(output_text_path, 'w') as f:\n",
    "        for event in events:\n",
    "            f.write(f\"{format_time(event[0])}, {event[1]}, {event[2]}, {event[3]}\\n\")"
   ]
  },
  {
   "cell_type": "markdown",
   "id": "614de58b",
   "metadata": {},
   "source": [
    "# Main Block"
   ]
  },
  {
   "cell_type": "code",
   "execution_count": 33,
   "id": "51021992",
   "metadata": {},
   "outputs": [],
   "source": [
    "\n",
    "\n",
    "\n",
    "if __name__ == \"__main__\":\n",
    "    input_video = 'AI Assignment video.mp4'\n",
    "    output_video = 'output_video.mp4'\n",
    "    output_text = 'output_events.txt'\n",
    "\n",
    "    process_video(input_video, output_video, output_text)\n"
   ]
  }
 ],
 "metadata": {
  "kernelspec": {
   "display_name": "Python 3 (ipykernel)",
   "language": "python",
   "name": "python3"
  },
  "language_info": {
   "codemirror_mode": {
    "name": "ipython",
    "version": 3
   },
   "file_extension": ".py",
   "mimetype": "text/x-python",
   "name": "python",
   "nbconvert_exporter": "python",
   "pygments_lexer": "ipython3",
   "version": "3.11.5"
  }
 },
 "nbformat": 4,
 "nbformat_minor": 5
}
